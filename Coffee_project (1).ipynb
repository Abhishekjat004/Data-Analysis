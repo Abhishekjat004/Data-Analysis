{
 "cells": [
  {
   "cell_type": "code",
   "execution_count": 1,
   "id": "241a3a28",
   "metadata": {},
   "outputs": [],
   "source": [
    "import numpy as np\n",
    "import pandas as pd\n",
    "import matplotlib.pyplot as plt"
   ]
  },
  {
   "cell_type": "code",
   "execution_count": 11,
   "id": "a7da4179",
   "metadata": {},
   "outputs": [
    {
     "data": {
      "text/html": [
       "<div>\n",
       "<style scoped>\n",
       "    .dataframe tbody tr th:only-of-type {\n",
       "        vertical-align: middle;\n",
       "    }\n",
       "\n",
       "    .dataframe tbody tr th {\n",
       "        vertical-align: top;\n",
       "    }\n",
       "\n",
       "    .dataframe thead th {\n",
       "        text-align: right;\n",
       "    }\n",
       "</style>\n",
       "<table border=\"1\" class=\"dataframe\">\n",
       "  <thead>\n",
       "    <tr style=\"text-align: right;\">\n",
       "      <th></th>\n",
       "      <th>Angola</th>\n",
       "      <th>50.345</th>\n",
       "      <th>79.331</th>\n",
       "      <th>77.52</th>\n",
       "      <th>32.608</th>\n",
       "      <th>76.802</th>\n",
       "      <th>62.109</th>\n",
       "      <th>70.925</th>\n",
       "      <th>64.33</th>\n",
       "      <th>85.344</th>\n",
       "      <th>...</th>\n",
       "      <th>13.42</th>\n",
       "      <th>34.97</th>\n",
       "      <th>28.715</th>\n",
       "      <th>32.79</th>\n",
       "      <th>34.935</th>\n",
       "      <th>39.405</th>\n",
       "      <th>40.515</th>\n",
       "      <th>44.83</th>\n",
       "      <th>35.006</th>\n",
       "      <th>40.3874</th>\n",
       "    </tr>\n",
       "  </thead>\n",
       "  <tbody>\n",
       "    <tr>\n",
       "      <th>0</th>\n",
       "      <td>Angola</td>\n",
       "      <td>50.3450</td>\n",
       "      <td>79.3310</td>\n",
       "      <td>77.5200</td>\n",
       "      <td>32.6080</td>\n",
       "      <td>76.802</td>\n",
       "      <td>62.1090</td>\n",
       "      <td>70.925</td>\n",
       "      <td>64.330</td>\n",
       "      <td>85.3440</td>\n",
       "      <td>...</td>\n",
       "      <td>13.4200</td>\n",
       "      <td>34.9700</td>\n",
       "      <td>28.7150</td>\n",
       "      <td>32.7900</td>\n",
       "      <td>34.9350</td>\n",
       "      <td>39.4050</td>\n",
       "      <td>40.5150</td>\n",
       "      <td>44.8300</td>\n",
       "      <td>35.0060</td>\n",
       "      <td>40.3874</td>\n",
       "    </tr>\n",
       "    <tr>\n",
       "      <th>1</th>\n",
       "      <td>Bolivia (Plurinational State of)</td>\n",
       "      <td>122.7770</td>\n",
       "      <td>103.5360</td>\n",
       "      <td>120.2350</td>\n",
       "      <td>50.8230</td>\n",
       "      <td>116.944</td>\n",
       "      <td>142.4850</td>\n",
       "      <td>124.579</td>\n",
       "      <td>140.719</td>\n",
       "      <td>137.9850</td>\n",
       "      <td>...</td>\n",
       "      <td>128.4751</td>\n",
       "      <td>117.2249</td>\n",
       "      <td>131.8354</td>\n",
       "      <td>105.2812</td>\n",
       "      <td>119.9122</td>\n",
       "      <td>99.8766</td>\n",
       "      <td>84.2191</td>\n",
       "      <td>77.9835</td>\n",
       "      <td>83.8112</td>\n",
       "      <td>82.5687</td>\n",
       "    </tr>\n",
       "    <tr>\n",
       "      <th>2</th>\n",
       "      <td>Brazil</td>\n",
       "      <td>27285.6286</td>\n",
       "      <td>27293.4934</td>\n",
       "      <td>34603.3542</td>\n",
       "      <td>28166.9786</td>\n",
       "      <td>28192.047</td>\n",
       "      <td>18060.2022</td>\n",
       "      <td>29196.743</td>\n",
       "      <td>26148.004</td>\n",
       "      <td>36760.8533</td>\n",
       "      <td>...</td>\n",
       "      <td>43976.8120</td>\n",
       "      <td>55428.4102</td>\n",
       "      <td>48591.8289</td>\n",
       "      <td>55418.0012</td>\n",
       "      <td>54688.9664</td>\n",
       "      <td>53304.7669</td>\n",
       "      <td>52870.5876</td>\n",
       "      <td>56788.1784</td>\n",
       "      <td>52739.8635</td>\n",
       "      <td>62924.8836</td>\n",
       "    </tr>\n",
       "    <tr>\n",
       "      <th>3</th>\n",
       "      <td>Burundi</td>\n",
       "      <td>487.3930</td>\n",
       "      <td>667.1990</td>\n",
       "      <td>620.2380</td>\n",
       "      <td>393.3540</td>\n",
       "      <td>664.143</td>\n",
       "      <td>433.9800</td>\n",
       "      <td>400.969</td>\n",
       "      <td>249.785</td>\n",
       "      <td>491.9920</td>\n",
       "      <td>...</td>\n",
       "      <td>111.6130</td>\n",
       "      <td>352.9776</td>\n",
       "      <td>204.1328</td>\n",
       "      <td>405.9615</td>\n",
       "      <td>163.2177</td>\n",
       "      <td>247.5500</td>\n",
       "      <td>274.1017</td>\n",
       "      <td>248.7933</td>\n",
       "      <td>202.1079</td>\n",
       "      <td>178.4206</td>\n",
       "    </tr>\n",
       "    <tr>\n",
       "      <th>4</th>\n",
       "      <td>Ecuador</td>\n",
       "      <td>1503.8150</td>\n",
       "      <td>2123.8240</td>\n",
       "      <td>1185.4800</td>\n",
       "      <td>2069.0070</td>\n",
       "      <td>2375.766</td>\n",
       "      <td>1888.2330</td>\n",
       "      <td>1992.914</td>\n",
       "      <td>1190.663</td>\n",
       "      <td>1205.9680</td>\n",
       "      <td>...</td>\n",
       "      <td>813.2849</td>\n",
       "      <td>853.9798</td>\n",
       "      <td>825.4144</td>\n",
       "      <td>828.1024</td>\n",
       "      <td>665.5450</td>\n",
       "      <td>644.0112</td>\n",
       "      <td>644.4926</td>\n",
       "      <td>644.8845</td>\n",
       "      <td>623.5744</td>\n",
       "      <td>601.0001</td>\n",
       "    </tr>\n",
       "  </tbody>\n",
       "</table>\n",
       "<p>5 rows × 30 columns</p>\n",
       "</div>"
      ],
      "text/plain": [
       "0                            Angola      50.345      79.331       77.52  \\\n",
       "0                            Angola     50.3450     79.3310     77.5200   \n",
       "1  Bolivia (Plurinational State of)    122.7770    103.5360    120.2350   \n",
       "2                            Brazil  27285.6286  27293.4934  34603.3542   \n",
       "3                           Burundi    487.3930    667.1990    620.2380   \n",
       "4                           Ecuador   1503.8150   2123.8240   1185.4800   \n",
       "\n",
       "0      32.608     76.802      62.109     70.925      64.33      85.344  ...  \\\n",
       "0     32.6080     76.802     62.1090     70.925     64.330     85.3440  ...   \n",
       "1     50.8230    116.944    142.4850    124.579    140.719    137.9850  ...   \n",
       "2  28166.9786  28192.047  18060.2022  29196.743  26148.004  36760.8533  ...   \n",
       "3    393.3540    664.143    433.9800    400.969    249.785    491.9920  ...   \n",
       "4   2069.0070   2375.766   1888.2330   1992.914   1190.663   1205.9680  ...   \n",
       "\n",
       "0       13.42       34.97      28.715       32.79      34.935      39.405  \\\n",
       "0     13.4200     34.9700     28.7150     32.7900     34.9350     39.4050   \n",
       "1    128.4751    117.2249    131.8354    105.2812    119.9122     99.8766   \n",
       "2  43976.8120  55428.4102  48591.8289  55418.0012  54688.9664  53304.7669   \n",
       "3    111.6130    352.9776    204.1328    405.9615    163.2177    247.5500   \n",
       "4    813.2849    853.9798    825.4144    828.1024    665.5450    644.0112   \n",
       "\n",
       "0      40.515       44.83      35.006     40.3874  \n",
       "0     40.5150     44.8300     35.0060     40.3874  \n",
       "1     84.2191     77.9835     83.8112     82.5687  \n",
       "2  52870.5876  56788.1784  52739.8635  62924.8836  \n",
       "3    274.1017    248.7933    202.1079    178.4206  \n",
       "4    644.4926    644.8845    623.5744    601.0001  \n",
       "\n",
       "[5 rows x 30 columns]"
      ]
     },
     "execution_count": 11,
     "metadata": {},
     "output_type": "execute_result"
    }
   ],
   "source": [
    "coffee_df=pd.read_csv(r'D:\\AU(DS)\\python\\coffe\\total-production.csv')\n",
    "coffee_df.columns=coffee_df.iloc[0]\n",
    "coffee_df.head()"
   ]
  },
  {
   "cell_type": "code",
   "execution_count": 7,
   "id": "dd84677d-b7ee-4f7f-965a-c72d4bb4a69d",
   "metadata": {},
   "outputs": [
    {
     "ename": "KeyError",
     "evalue": "\"['total_production'] not found in axis\"",
     "output_type": "error",
     "traceback": [
      "\u001b[1;31m---------------------------------------------------------------------------\u001b[0m",
      "\u001b[1;31mKeyError\u001b[0m                                  Traceback (most recent call last)",
      "Cell \u001b[1;32mIn[7], line 1\u001b[0m\n\u001b[1;32m----> 1\u001b[0m coffee_df\u001b[38;5;241m=\u001b[39mcoffee_df\u001b[38;5;241m.\u001b[39mdrop(\u001b[38;5;124m\"\u001b[39m\u001b[38;5;124mtotal_production\u001b[39m\u001b[38;5;124m\"\u001b[39m,axis\u001b[38;5;241m=\u001b[39m\u001b[38;5;241m1\u001b[39m)\n\u001b[0;32m      2\u001b[0m coffee_df\u001b[38;5;241m.\u001b[39mindex\n",
      "File \u001b[1;32m~\\anaconda3\\Lib\\site-packages\\pandas\\core\\frame.py:5344\u001b[0m, in \u001b[0;36mDataFrame.drop\u001b[1;34m(self, labels, axis, index, columns, level, inplace, errors)\u001b[0m\n\u001b[0;32m   5196\u001b[0m \u001b[38;5;28;01mdef\u001b[39;00m \u001b[38;5;21mdrop\u001b[39m(\n\u001b[0;32m   5197\u001b[0m     \u001b[38;5;28mself\u001b[39m,\n\u001b[0;32m   5198\u001b[0m     labels: IndexLabel \u001b[38;5;241m|\u001b[39m \u001b[38;5;28;01mNone\u001b[39;00m \u001b[38;5;241m=\u001b[39m \u001b[38;5;28;01mNone\u001b[39;00m,\n\u001b[1;32m   (...)\u001b[0m\n\u001b[0;32m   5205\u001b[0m     errors: IgnoreRaise \u001b[38;5;241m=\u001b[39m \u001b[38;5;124m\"\u001b[39m\u001b[38;5;124mraise\u001b[39m\u001b[38;5;124m\"\u001b[39m,\n\u001b[0;32m   5206\u001b[0m ) \u001b[38;5;241m-\u001b[39m\u001b[38;5;241m>\u001b[39m DataFrame \u001b[38;5;241m|\u001b[39m \u001b[38;5;28;01mNone\u001b[39;00m:\n\u001b[0;32m   5207\u001b[0m \u001b[38;5;250m    \u001b[39m\u001b[38;5;124;03m\"\"\"\u001b[39;00m\n\u001b[0;32m   5208\u001b[0m \u001b[38;5;124;03m    Drop specified labels from rows or columns.\u001b[39;00m\n\u001b[0;32m   5209\u001b[0m \n\u001b[1;32m   (...)\u001b[0m\n\u001b[0;32m   5342\u001b[0m \u001b[38;5;124;03m            weight  1.0     0.8\u001b[39;00m\n\u001b[0;32m   5343\u001b[0m \u001b[38;5;124;03m    \"\"\"\u001b[39;00m\n\u001b[1;32m-> 5344\u001b[0m     \u001b[38;5;28;01mreturn\u001b[39;00m \u001b[38;5;28msuper\u001b[39m()\u001b[38;5;241m.\u001b[39mdrop(\n\u001b[0;32m   5345\u001b[0m         labels\u001b[38;5;241m=\u001b[39mlabels,\n\u001b[0;32m   5346\u001b[0m         axis\u001b[38;5;241m=\u001b[39maxis,\n\u001b[0;32m   5347\u001b[0m         index\u001b[38;5;241m=\u001b[39mindex,\n\u001b[0;32m   5348\u001b[0m         columns\u001b[38;5;241m=\u001b[39mcolumns,\n\u001b[0;32m   5349\u001b[0m         level\u001b[38;5;241m=\u001b[39mlevel,\n\u001b[0;32m   5350\u001b[0m         inplace\u001b[38;5;241m=\u001b[39minplace,\n\u001b[0;32m   5351\u001b[0m         errors\u001b[38;5;241m=\u001b[39merrors,\n\u001b[0;32m   5352\u001b[0m     )\n",
      "File \u001b[1;32m~\\anaconda3\\Lib\\site-packages\\pandas\\core\\generic.py:4711\u001b[0m, in \u001b[0;36mNDFrame.drop\u001b[1;34m(self, labels, axis, index, columns, level, inplace, errors)\u001b[0m\n\u001b[0;32m   4709\u001b[0m \u001b[38;5;28;01mfor\u001b[39;00m axis, labels \u001b[38;5;129;01min\u001b[39;00m axes\u001b[38;5;241m.\u001b[39mitems():\n\u001b[0;32m   4710\u001b[0m     \u001b[38;5;28;01mif\u001b[39;00m labels \u001b[38;5;129;01mis\u001b[39;00m \u001b[38;5;129;01mnot\u001b[39;00m \u001b[38;5;28;01mNone\u001b[39;00m:\n\u001b[1;32m-> 4711\u001b[0m         obj \u001b[38;5;241m=\u001b[39m obj\u001b[38;5;241m.\u001b[39m_drop_axis(labels, axis, level\u001b[38;5;241m=\u001b[39mlevel, errors\u001b[38;5;241m=\u001b[39merrors)\n\u001b[0;32m   4713\u001b[0m \u001b[38;5;28;01mif\u001b[39;00m inplace:\n\u001b[0;32m   4714\u001b[0m     \u001b[38;5;28mself\u001b[39m\u001b[38;5;241m.\u001b[39m_update_inplace(obj)\n",
      "File \u001b[1;32m~\\anaconda3\\Lib\\site-packages\\pandas\\core\\generic.py:4753\u001b[0m, in \u001b[0;36mNDFrame._drop_axis\u001b[1;34m(self, labels, axis, level, errors, only_slice)\u001b[0m\n\u001b[0;32m   4751\u001b[0m         new_axis \u001b[38;5;241m=\u001b[39m axis\u001b[38;5;241m.\u001b[39mdrop(labels, level\u001b[38;5;241m=\u001b[39mlevel, errors\u001b[38;5;241m=\u001b[39merrors)\n\u001b[0;32m   4752\u001b[0m     \u001b[38;5;28;01melse\u001b[39;00m:\n\u001b[1;32m-> 4753\u001b[0m         new_axis \u001b[38;5;241m=\u001b[39m axis\u001b[38;5;241m.\u001b[39mdrop(labels, errors\u001b[38;5;241m=\u001b[39merrors)\n\u001b[0;32m   4754\u001b[0m     indexer \u001b[38;5;241m=\u001b[39m axis\u001b[38;5;241m.\u001b[39mget_indexer(new_axis)\n\u001b[0;32m   4756\u001b[0m \u001b[38;5;66;03m# Case for non-unique axis\u001b[39;00m\n\u001b[0;32m   4757\u001b[0m \u001b[38;5;28;01melse\u001b[39;00m:\n",
      "File \u001b[1;32m~\\anaconda3\\Lib\\site-packages\\pandas\\core\\indexes\\base.py:7000\u001b[0m, in \u001b[0;36mIndex.drop\u001b[1;34m(self, labels, errors)\u001b[0m\n\u001b[0;32m   6998\u001b[0m \u001b[38;5;28;01mif\u001b[39;00m mask\u001b[38;5;241m.\u001b[39many():\n\u001b[0;32m   6999\u001b[0m     \u001b[38;5;28;01mif\u001b[39;00m errors \u001b[38;5;241m!=\u001b[39m \u001b[38;5;124m\"\u001b[39m\u001b[38;5;124mignore\u001b[39m\u001b[38;5;124m\"\u001b[39m:\n\u001b[1;32m-> 7000\u001b[0m         \u001b[38;5;28;01mraise\u001b[39;00m \u001b[38;5;167;01mKeyError\u001b[39;00m(\u001b[38;5;124mf\u001b[39m\u001b[38;5;124m\"\u001b[39m\u001b[38;5;132;01m{\u001b[39;00mlabels[mask]\u001b[38;5;241m.\u001b[39mtolist()\u001b[38;5;132;01m}\u001b[39;00m\u001b[38;5;124m not found in axis\u001b[39m\u001b[38;5;124m\"\u001b[39m)\n\u001b[0;32m   7001\u001b[0m     indexer \u001b[38;5;241m=\u001b[39m indexer[\u001b[38;5;241m~\u001b[39mmask]\n\u001b[0;32m   7002\u001b[0m \u001b[38;5;28;01mreturn\u001b[39;00m \u001b[38;5;28mself\u001b[39m\u001b[38;5;241m.\u001b[39mdelete(indexer)\n",
      "\u001b[1;31mKeyError\u001b[0m: \"['total_production'] not found in axis\""
     ]
    }
   ],
   "source": [
    "coffee_df=coffee_df.drop(\"total_production\")\n",
    "coffee_df.index"
   ]
  },
  {
   "cell_type": "code",
   "execution_count": null,
   "id": "645b78a1",
   "metadata": {},
   "outputs": [],
   "source": [
    "coffee_df.sum()"
   ]
  },
  {
   "cell_type": "code",
   "execution_count": null,
   "id": "185ac777",
   "metadata": {},
   "outputs": [],
   "source": []
  },
  {
   "cell_type": "code",
   "execution_count": null,
   "id": "2cb416ec",
   "metadata": {},
   "outputs": [],
   "source": [
    "#coffee_df[['Angola','Brazil']].sum()\n",
    "top_10_producer=coffee_df.sum().sort_values(ascending=False).iloc[0:10]\n",
    "top_10_producer"
   ]
  },
  {
   "cell_type": "code",
   "execution_count": null,
   "id": "2bdb1a3a",
   "metadata": {},
   "outputs": [],
   "source": [
    "# Plottiing bar graph for above\n",
    "fig,ax=plt.subplots()\n",
    "ax.bar(top_10_producer.index,top_10_producer/1000000,color='cyan')\n",
    "position=list(range(10))\n",
    "labels=['BZ','VN','CL','INDO','ETh','IND','MEX','GUT','HON','UG']\n",
    "ax.set_xticks(position)\n",
    "ax.set_xticklabels(labels)\n",
    "ax.spines['right'].set_visible(False)\n",
    "ax.spines['top'].set_visible(False)\n",
    "\n",
    "#plt.xticks(rotation=45);"
   ]
  },
  {
   "cell_type": "code",
   "execution_count": null,
   "id": "683850bd",
   "metadata": {},
   "outputs": [],
   "source": [
    "# ploting line chart for to 5 producers\n",
    "top_5=coffee_df.loc[:,['Brazil','Viet Nam','Colombia','Indonesia','Ethiopia']]\n",
    "top_5.index.astype('datetime64[ns]')\n",
    "top_5.head()"
   ]
  },
  {
   "cell_type": "code",
   "execution_count": null,
   "id": "606e0c11",
   "metadata": {},
   "outputs": [],
   "source": [
    "fig,ax=plt.subplots()\n",
    "ax.plot(top_5.index,top_5['Brazil'],color='red')\n",
    "ax.plot(top_5.index,top_5['Viet Nam'],color='black')\n",
    "ax.plot(top_5.index,top_5['Colombia'],color='green')\n",
    "\n",
    "\n",
    "plt.xticks(rotation=90)\n",
    "ax.spines['right'].set_visible(False)\n",
    "ax.spines['top'].set_visible(False)\n",
    "fig .suptitle('Coffee Producing Nation 1990 to 2012');\n"
   ]
  },
  {
   "cell_type": "code",
   "execution_count": null,
   "id": "53498072",
   "metadata": {},
   "outputs": [],
   "source": [
    "brazil_vs_other=coffee_df\n",
    "#brazil_vs_other.head(5)\n",
    "brazil_vs_other=brazil_vs_other.assign(rest_of_world=brazil_vs_other.drop('Brazil',axis=1).sum(axis=1)).loc[:,['Brazil','rest_of_world']]\n",
    "brazil_vs_other=brazil_vs_other.astype({'Brazil':'float64','rest_of_world':'float64'})\n"
   ]
  },
  {
   "cell_type": "code",
   "execution_count": null,
   "id": "d297ec40",
   "metadata": {},
   "outputs": [],
   "source": [
    "brazil_vs_other.head()"
   ]
  },
  {
   "cell_type": "code",
   "execution_count": null,
   "id": "6ffd861c",
   "metadata": {},
   "outputs": [],
   "source": [
    "fig,ax=plt.subplots()\n",
    "ax.stackplot(brazil_vs_other.index.astype('datetime64[ns]'),\n",
    "             brazil_vs_other['Brazil'],\n",
    "             brazil_vs_other['rest_of_world'],\n",
    "            labels=['Brazil','rest_of_world'])\n",
    "fig.suptitle('Brazil vs Other ')\n",
    "ax.spines['right'].set_visible(False)\n",
    "ax.spines['top'].set_visible(False)\n",
    "ax.legend(loc='upper left')"
   ]
  },
  {
   "cell_type": "code",
   "execution_count": null,
   "id": "da3cb5fd",
   "metadata": {},
   "outputs": [],
   "source": [
    "# coffee prodfuction\n",
    "coffee_df.head()\n",
    "fig,ax=plt.subplots()\n",
    "ax.scatter(coffee_df['Brazil'],coffee_df['Angola'])\n",
    "fig.suptitle('Brazil Production Vs Angola')"
   ]
  },
  {
   "cell_type": "code",
   "execution_count": null,
   "id": "046c7171",
   "metadata": {},
   "outputs": [],
   "source": [
    "# comaprig top 5 producers with  rest of world\n",
    "top_5_rest=coffee_df.copy()\n",
    "top_5_rest['rest_of_world']=top_5_rest.drop(['Brazil','Viet Nam','Colombia','Indonesia','Ethiopia'],axis=1).sum(axis=1)\n",
    "top_5_rest\n",
    "top_5_2018=top_5_rest.loc['2018',['Brazil','Viet Nam','Colombia','Indonesia','Ethiopia','rest_of_world']]"
   ]
  },
  {
   "cell_type": "code",
   "execution_count": null,
   "id": "6ef0e020",
   "metadata": {},
   "outputs": [],
   "source": [
    "top_5_2018\n",
    "fig,ax=plt.subplots()\n",
    "ax.pie(top_5_2018,\n",
    "      autopct=\"%.0f%%\",\n",
    "      labels=top_5_2018.index);"
   ]
  },
  {
   "cell_type": "code",
   "execution_count": null,
   "id": "887c922f",
   "metadata": {},
   "outputs": [],
   "source": [
    "# relation between import and  consumption\n",
    "import_df=pd.read_csv('imports.csv')\n",
    "#import_df.head()\n",
    "import_df=import_df.set_index('imports').mean(axis=1)\n",
    "import_df.head()"
   ]
  },
  {
   "cell_type": "code",
   "execution_count": 3,
   "id": "92489651",
   "metadata": {},
   "outputs": [
    {
     "ename": "FileNotFoundError",
     "evalue": "[Errno 2] No such file or directory: 'retail-prices.csv'",
     "output_type": "error",
     "traceback": [
      "\u001b[1;31m---------------------------------------------------------------------------\u001b[0m",
      "\u001b[1;31mFileNotFoundError\u001b[0m                         Traceback (most recent call last)",
      "Cell \u001b[1;32mIn[3], line 1\u001b[0m\n\u001b[1;32m----> 1\u001b[0m retail_df\u001b[38;5;241m=\u001b[39mpd\u001b[38;5;241m.\u001b[39mread_csv(\u001b[38;5;124m'\u001b[39m\u001b[38;5;124mretail-prices.csv\u001b[39m\u001b[38;5;124m'\u001b[39m)\n\u001b[0;32m      2\u001b[0m retail_df\u001b[38;5;241m=\u001b[39mretail_df\u001b[38;5;241m.\u001b[39mset_index(\u001b[38;5;124m'\u001b[39m\u001b[38;5;124mretail_prices\u001b[39m\u001b[38;5;124m'\u001b[39m)\u001b[38;5;241m.\u001b[39mmean(axis\u001b[38;5;241m=\u001b[39m\u001b[38;5;241m1\u001b[39m)\n\u001b[0;32m      3\u001b[0m retail_df\n",
      "File \u001b[1;32m~\\anaconda3\\Lib\\site-packages\\pandas\\io\\parsers\\readers.py:948\u001b[0m, in \u001b[0;36mread_csv\u001b[1;34m(filepath_or_buffer, sep, delimiter, header, names, index_col, usecols, dtype, engine, converters, true_values, false_values, skipinitialspace, skiprows, skipfooter, nrows, na_values, keep_default_na, na_filter, verbose, skip_blank_lines, parse_dates, infer_datetime_format, keep_date_col, date_parser, date_format, dayfirst, cache_dates, iterator, chunksize, compression, thousands, decimal, lineterminator, quotechar, quoting, doublequote, escapechar, comment, encoding, encoding_errors, dialect, on_bad_lines, delim_whitespace, low_memory, memory_map, float_precision, storage_options, dtype_backend)\u001b[0m\n\u001b[0;32m    935\u001b[0m kwds_defaults \u001b[38;5;241m=\u001b[39m _refine_defaults_read(\n\u001b[0;32m    936\u001b[0m     dialect,\n\u001b[0;32m    937\u001b[0m     delimiter,\n\u001b[1;32m   (...)\u001b[0m\n\u001b[0;32m    944\u001b[0m     dtype_backend\u001b[38;5;241m=\u001b[39mdtype_backend,\n\u001b[0;32m    945\u001b[0m )\n\u001b[0;32m    946\u001b[0m kwds\u001b[38;5;241m.\u001b[39mupdate(kwds_defaults)\n\u001b[1;32m--> 948\u001b[0m \u001b[38;5;28;01mreturn\u001b[39;00m _read(filepath_or_buffer, kwds)\n",
      "File \u001b[1;32m~\\anaconda3\\Lib\\site-packages\\pandas\\io\\parsers\\readers.py:611\u001b[0m, in \u001b[0;36m_read\u001b[1;34m(filepath_or_buffer, kwds)\u001b[0m\n\u001b[0;32m    608\u001b[0m _validate_names(kwds\u001b[38;5;241m.\u001b[39mget(\u001b[38;5;124m\"\u001b[39m\u001b[38;5;124mnames\u001b[39m\u001b[38;5;124m\"\u001b[39m, \u001b[38;5;28;01mNone\u001b[39;00m))\n\u001b[0;32m    610\u001b[0m \u001b[38;5;66;03m# Create the parser.\u001b[39;00m\n\u001b[1;32m--> 611\u001b[0m parser \u001b[38;5;241m=\u001b[39m TextFileReader(filepath_or_buffer, \u001b[38;5;241m*\u001b[39m\u001b[38;5;241m*\u001b[39mkwds)\n\u001b[0;32m    613\u001b[0m \u001b[38;5;28;01mif\u001b[39;00m chunksize \u001b[38;5;129;01mor\u001b[39;00m iterator:\n\u001b[0;32m    614\u001b[0m     \u001b[38;5;28;01mreturn\u001b[39;00m parser\n",
      "File \u001b[1;32m~\\anaconda3\\Lib\\site-packages\\pandas\\io\\parsers\\readers.py:1448\u001b[0m, in \u001b[0;36mTextFileReader.__init__\u001b[1;34m(self, f, engine, **kwds)\u001b[0m\n\u001b[0;32m   1445\u001b[0m     \u001b[38;5;28mself\u001b[39m\u001b[38;5;241m.\u001b[39moptions[\u001b[38;5;124m\"\u001b[39m\u001b[38;5;124mhas_index_names\u001b[39m\u001b[38;5;124m\"\u001b[39m] \u001b[38;5;241m=\u001b[39m kwds[\u001b[38;5;124m\"\u001b[39m\u001b[38;5;124mhas_index_names\u001b[39m\u001b[38;5;124m\"\u001b[39m]\n\u001b[0;32m   1447\u001b[0m \u001b[38;5;28mself\u001b[39m\u001b[38;5;241m.\u001b[39mhandles: IOHandles \u001b[38;5;241m|\u001b[39m \u001b[38;5;28;01mNone\u001b[39;00m \u001b[38;5;241m=\u001b[39m \u001b[38;5;28;01mNone\u001b[39;00m\n\u001b[1;32m-> 1448\u001b[0m \u001b[38;5;28mself\u001b[39m\u001b[38;5;241m.\u001b[39m_engine \u001b[38;5;241m=\u001b[39m \u001b[38;5;28mself\u001b[39m\u001b[38;5;241m.\u001b[39m_make_engine(f, \u001b[38;5;28mself\u001b[39m\u001b[38;5;241m.\u001b[39mengine)\n",
      "File \u001b[1;32m~\\anaconda3\\Lib\\site-packages\\pandas\\io\\parsers\\readers.py:1705\u001b[0m, in \u001b[0;36mTextFileReader._make_engine\u001b[1;34m(self, f, engine)\u001b[0m\n\u001b[0;32m   1703\u001b[0m     \u001b[38;5;28;01mif\u001b[39;00m \u001b[38;5;124m\"\u001b[39m\u001b[38;5;124mb\u001b[39m\u001b[38;5;124m\"\u001b[39m \u001b[38;5;129;01mnot\u001b[39;00m \u001b[38;5;129;01min\u001b[39;00m mode:\n\u001b[0;32m   1704\u001b[0m         mode \u001b[38;5;241m+\u001b[39m\u001b[38;5;241m=\u001b[39m \u001b[38;5;124m\"\u001b[39m\u001b[38;5;124mb\u001b[39m\u001b[38;5;124m\"\u001b[39m\n\u001b[1;32m-> 1705\u001b[0m \u001b[38;5;28mself\u001b[39m\u001b[38;5;241m.\u001b[39mhandles \u001b[38;5;241m=\u001b[39m get_handle(\n\u001b[0;32m   1706\u001b[0m     f,\n\u001b[0;32m   1707\u001b[0m     mode,\n\u001b[0;32m   1708\u001b[0m     encoding\u001b[38;5;241m=\u001b[39m\u001b[38;5;28mself\u001b[39m\u001b[38;5;241m.\u001b[39moptions\u001b[38;5;241m.\u001b[39mget(\u001b[38;5;124m\"\u001b[39m\u001b[38;5;124mencoding\u001b[39m\u001b[38;5;124m\"\u001b[39m, \u001b[38;5;28;01mNone\u001b[39;00m),\n\u001b[0;32m   1709\u001b[0m     compression\u001b[38;5;241m=\u001b[39m\u001b[38;5;28mself\u001b[39m\u001b[38;5;241m.\u001b[39moptions\u001b[38;5;241m.\u001b[39mget(\u001b[38;5;124m\"\u001b[39m\u001b[38;5;124mcompression\u001b[39m\u001b[38;5;124m\"\u001b[39m, \u001b[38;5;28;01mNone\u001b[39;00m),\n\u001b[0;32m   1710\u001b[0m     memory_map\u001b[38;5;241m=\u001b[39m\u001b[38;5;28mself\u001b[39m\u001b[38;5;241m.\u001b[39moptions\u001b[38;5;241m.\u001b[39mget(\u001b[38;5;124m\"\u001b[39m\u001b[38;5;124mmemory_map\u001b[39m\u001b[38;5;124m\"\u001b[39m, \u001b[38;5;28;01mFalse\u001b[39;00m),\n\u001b[0;32m   1711\u001b[0m     is_text\u001b[38;5;241m=\u001b[39mis_text,\n\u001b[0;32m   1712\u001b[0m     errors\u001b[38;5;241m=\u001b[39m\u001b[38;5;28mself\u001b[39m\u001b[38;5;241m.\u001b[39moptions\u001b[38;5;241m.\u001b[39mget(\u001b[38;5;124m\"\u001b[39m\u001b[38;5;124mencoding_errors\u001b[39m\u001b[38;5;124m\"\u001b[39m, \u001b[38;5;124m\"\u001b[39m\u001b[38;5;124mstrict\u001b[39m\u001b[38;5;124m\"\u001b[39m),\n\u001b[0;32m   1713\u001b[0m     storage_options\u001b[38;5;241m=\u001b[39m\u001b[38;5;28mself\u001b[39m\u001b[38;5;241m.\u001b[39moptions\u001b[38;5;241m.\u001b[39mget(\u001b[38;5;124m\"\u001b[39m\u001b[38;5;124mstorage_options\u001b[39m\u001b[38;5;124m\"\u001b[39m, \u001b[38;5;28;01mNone\u001b[39;00m),\n\u001b[0;32m   1714\u001b[0m )\n\u001b[0;32m   1715\u001b[0m \u001b[38;5;28;01massert\u001b[39;00m \u001b[38;5;28mself\u001b[39m\u001b[38;5;241m.\u001b[39mhandles \u001b[38;5;129;01mis\u001b[39;00m \u001b[38;5;129;01mnot\u001b[39;00m \u001b[38;5;28;01mNone\u001b[39;00m\n\u001b[0;32m   1716\u001b[0m f \u001b[38;5;241m=\u001b[39m \u001b[38;5;28mself\u001b[39m\u001b[38;5;241m.\u001b[39mhandles\u001b[38;5;241m.\u001b[39mhandle\n",
      "File \u001b[1;32m~\\anaconda3\\Lib\\site-packages\\pandas\\io\\common.py:863\u001b[0m, in \u001b[0;36mget_handle\u001b[1;34m(path_or_buf, mode, encoding, compression, memory_map, is_text, errors, storage_options)\u001b[0m\n\u001b[0;32m    858\u001b[0m \u001b[38;5;28;01melif\u001b[39;00m \u001b[38;5;28misinstance\u001b[39m(handle, \u001b[38;5;28mstr\u001b[39m):\n\u001b[0;32m    859\u001b[0m     \u001b[38;5;66;03m# Check whether the filename is to be opened in binary mode.\u001b[39;00m\n\u001b[0;32m    860\u001b[0m     \u001b[38;5;66;03m# Binary mode does not support 'encoding' and 'newline'.\u001b[39;00m\n\u001b[0;32m    861\u001b[0m     \u001b[38;5;28;01mif\u001b[39;00m ioargs\u001b[38;5;241m.\u001b[39mencoding \u001b[38;5;129;01mand\u001b[39;00m \u001b[38;5;124m\"\u001b[39m\u001b[38;5;124mb\u001b[39m\u001b[38;5;124m\"\u001b[39m \u001b[38;5;129;01mnot\u001b[39;00m \u001b[38;5;129;01min\u001b[39;00m ioargs\u001b[38;5;241m.\u001b[39mmode:\n\u001b[0;32m    862\u001b[0m         \u001b[38;5;66;03m# Encoding\u001b[39;00m\n\u001b[1;32m--> 863\u001b[0m         handle \u001b[38;5;241m=\u001b[39m \u001b[38;5;28mopen\u001b[39m(\n\u001b[0;32m    864\u001b[0m             handle,\n\u001b[0;32m    865\u001b[0m             ioargs\u001b[38;5;241m.\u001b[39mmode,\n\u001b[0;32m    866\u001b[0m             encoding\u001b[38;5;241m=\u001b[39mioargs\u001b[38;5;241m.\u001b[39mencoding,\n\u001b[0;32m    867\u001b[0m             errors\u001b[38;5;241m=\u001b[39merrors,\n\u001b[0;32m    868\u001b[0m             newline\u001b[38;5;241m=\u001b[39m\u001b[38;5;124m\"\u001b[39m\u001b[38;5;124m\"\u001b[39m,\n\u001b[0;32m    869\u001b[0m         )\n\u001b[0;32m    870\u001b[0m     \u001b[38;5;28;01melse\u001b[39;00m:\n\u001b[0;32m    871\u001b[0m         \u001b[38;5;66;03m# Binary mode\u001b[39;00m\n\u001b[0;32m    872\u001b[0m         handle \u001b[38;5;241m=\u001b[39m \u001b[38;5;28mopen\u001b[39m(handle, ioargs\u001b[38;5;241m.\u001b[39mmode)\n",
      "\u001b[1;31mFileNotFoundError\u001b[0m: [Errno 2] No such file or directory: 'retail-prices.csv'"
     ]
    }
   ],
   "source": [
    "retail_df=pd.read_csv('retail-prices.csv')\n",
    "retail_df=retail_df.set_index('retail_prices').mean(axis=1)\n",
    "retail_df"
   ]
  },
  {
   "cell_type": "code",
   "execution_count": null,
   "id": "2f1c9660",
   "metadata": {},
   "outputs": [],
   "source": [
    "# merging both table\n",
    "price_cons=pd.DataFrame(retail_df).merge(pd.DataFrame(import_df),\n",
    "                                        left_on=retail_df.index,\n",
    "                                        right_on=import_df.index,\n",
    "                                        how='inner',\n",
    "                                        )\n",
    "\n",
    "price_cons.columns=['country','price','consumption']\n",
    "price_cons"
   ]
  },
  {
   "cell_type": "code",
   "execution_count": 131,
   "id": "74513c34",
   "metadata": {},
   "outputs": [
    {
     "data": {
      "image/png": "[encoded data removed]",
      "text/plain": [
       "<Figure size 1400x800 with 2 Axes>"
      ]
     },
     "metadata": {},
     "output_type": "display_data"
    }
   ],
   "source": [
    "fig, ax = plt.subplots(figsize=(14, 8))\n",
    "\n",
    "width=.35\n",
    "x=np.arange(0, len(price_cons[\"country\"]))\n",
    "\n",
    "bar1 = ax.bar(x-width/2, price_cons[\"consumption\"][::-1], width=width)\n",
    "\n",
    "ax.set_title(\"Prices Paid Vs. Consumption of Select Importing Nations\", fontsize=18, fontweight='bold')\n",
    "ax.set_ylabel(\"Consumption (k 60kg bags)\", fontsize=12)\n",
    "\n",
    "\n",
    "ax2 = ax.twinx()\n",
    "\n",
    "bar2 = ax2.bar(x+width/2, price_cons[\"price\"], width=width, color=\"orange\")\n",
    "ax2.set_ylabel(\"Average Price Paid Per Bag (USD)\", fontsize=12)\n",
    "\n",
    "\n",
    "plt.xticks(x, price_cons[\"country\"], fontsize=7)\n",
    "\n",
    "ax.legend([bar1, bar2], [\"Consumption\", \"Price\"],loc='upper left')\n",
    "\n",
    "plt.show()"
   ]
  },
  {
   "cell_type": "code",
   "execution_count": null,
   "id": "5e87cba1",
   "metadata": {},
   "outputs": [],
   "source": []
  }
 ],
 "metadata": {
  "kernelspec": {
   "display_name": "Python 3 (ipykernel)",
   "language": "python",
   "name": "python3"
  },
  "language_info": {
   "codemirror_mode": {
    "name": "ipython",
    "version": 3
   },
   "file_extension": ".py",
   "mimetype": "text/x-python",
   "name": "python",
   "nbconvert_exporter": "python",
   "pygments_lexer": "ipython3",
   "version": "3.11.7"
  }
 },
 "nbformat": 4,
 "nbformat_minor": 5
}
